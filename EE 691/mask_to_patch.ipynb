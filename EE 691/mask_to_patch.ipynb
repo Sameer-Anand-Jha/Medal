{
 "cells": [
  {
   "cell_type": "code",
   "execution_count": 1,
   "id": "0a298527",
   "metadata": {},
   "outputs": [],
   "source": [
    "from sklearn.feature_extraction import image\n",
    "import numpy as np\n",
    "import cv2\n",
    "import os\n",
    "import glob\n",
    "import sys"
   ]
  },
  {
   "cell_type": "code",
   "execution_count": 4,
   "id": "764c3772",
   "metadata": {},
   "outputs": [],
   "source": [
    "src=r'D:\\Academics\\Sem_2\\EE_691_RnD_Project\\Git\\96171d81-6aab-4a58-bdf4-2de8fa3e48f3\\WSI'\n",
    "# print(src)\n",
    "dest=r'D:\\Academics\\Sem_2\\EE_691_RnD_Project\\Git\\patches_tum_ntum\\destination'\n",
    "#dest='/home/Drive3/TCGA/Validation_March/HER2_target/pos/patch^es/'\n",
    "mpath=r'D:\\Academics\\Sem_2\\EE_691_RnD_Project\\Git\\patches_tum_ntum\\mask_n'"
   ]
  },
  {
   "cell_type": "code",
   "execution_count": 3,
   "id": "aa816abc",
   "metadata": {},
   "outputs": [
    {
     "name": "stdout",
     "output_type": "stream",
     "text": [
      "fold is :['D:\\\\Academics\\\\Sem_2\\\\EE_691_RnD_Project\\\\Git\\\\96171d81-6aab-4a58-bdf4-2de8fa3e48f3\\\\WSI\\\\TCGA-44-2665-11A-01-TS1.e284642f-9ea2-473f-b1ef-40c35957c436.svs']\n",
      "f1 is :D:\\Academics\\Sem_2\\EE_691_RnD_Project\\Git\\96171d81-6aab-4a58-bdf4-2de8fa3e48f3\\WSI\\TCGA-44-2665-11A-01-TS1.e284642f-9ea2-473f-b1ef-40c35957c436.svs\n",
      "fname is :D:\\Academics\\Sem_2\\EE_691_RnD_Project\\Git\\96171d81-6aab-4a58-bdf4-2de8fa3e48f3\\WSI\\TCGA-44-2665-11A-01-TS1.e284642f-9ea2-473f-b1ef-40c35957c436.svs\n",
      "dest_fname is :D:\\Academics\\Sem_2\\EE_691_RnD_Project\\Git\\96171d81-6aab-4a58-bdf4-2de8fa3e48f3\\WSI\\TCGA-44-2665-11A-01-TS1.e284642f-9ea2-473f-b1ef-40c35957c436.svs\n",
      "fold name is :D:\\Academics\\Sem_2\\EE_691_RnD_Project\\Git\\96171d81-6aab-4a58-bdf4-2de8fa3e48f3\\WSI\\TCGA-44-2665-11A-01-TS1.e284642f-9ea2-473f-b1ef-40c35957c436.svs\n"
     ]
    },
    {
     "ename": "OSError",
     "evalue": "[WinError 123] The filename, directory name, or volume label syntax is incorrect: 'D:\\\\Academics\\\\Sem_2\\\\EE_691_RnD_Project\\\\Git\\\\patches_tum_ntum\\\\destinationD:'",
     "output_type": "error",
     "traceback": [
      "\u001b[31m---------------------------------------------------------------------------\u001b[39m",
      "\u001b[31mOSError\u001b[39m                                   Traceback (most recent call last)",
      "\u001b[36mCell\u001b[39m\u001b[36m \u001b[39m\u001b[32mIn[3]\u001b[39m\u001b[32m, line 19\u001b[39m\n\u001b[32m     17\u001b[39m \u001b[38;5;28mprint\u001b[39m(\u001b[33mf\u001b[39m\u001b[33m'\u001b[39m\u001b[33mfold name is :\u001b[39m\u001b[38;5;132;01m{\u001b[39;00mfoldname\u001b[38;5;132;01m}\u001b[39;00m\u001b[33m'\u001b[39m)\n\u001b[32m     18\u001b[39m \u001b[38;5;28;01mif\u001b[39;00m \u001b[38;5;129;01mnot\u001b[39;00m os.path.exists(dest+foldname):\n\u001b[32m---> \u001b[39m\u001b[32m19\u001b[39m     \u001b[43mos\u001b[49m\u001b[43m.\u001b[49m\u001b[43mmakedirs\u001b[49m\u001b[43m(\u001b[49m\u001b[43mdest\u001b[49m\u001b[43m+\u001b[49m\u001b[43mfoldname\u001b[49m\u001b[43m)\u001b[49m\n\u001b[32m     20\u001b[39m os.chdir(dest+foldname)\n\u001b[32m     21\u001b[39m img=cv2.imread(f1)\n",
      "\u001b[36mFile \u001b[39m\u001b[32m<frozen os>:217\u001b[39m, in \u001b[36mmakedirs\u001b[39m\u001b[34m(name, mode, exist_ok)\u001b[39m\n",
      "\u001b[36mFile \u001b[39m\u001b[32m<frozen os>:217\u001b[39m, in \u001b[36mmakedirs\u001b[39m\u001b[34m(name, mode, exist_ok)\u001b[39m\n",
      "    \u001b[31m[... skipping similar frames: makedirs at line 217 (4 times)]\u001b[39m\n",
      "\u001b[36mFile \u001b[39m\u001b[32m<frozen os>:217\u001b[39m, in \u001b[36mmakedirs\u001b[39m\u001b[34m(name, mode, exist_ok)\u001b[39m\n",
      "\u001b[36mFile \u001b[39m\u001b[32m<frozen os>:227\u001b[39m, in \u001b[36mmakedirs\u001b[39m\u001b[34m(name, mode, exist_ok)\u001b[39m\n",
      "\u001b[31mOSError\u001b[39m: [WinError 123] The filename, directory name, or volume label syntax is incorrect: 'D:\\\\Academics\\\\Sem_2\\\\EE_691_RnD_Project\\\\Git\\\\patches_tum_ntum\\\\destinationD:'"
     ]
    }
   ],
   "source": [
    "fold=glob.glob(src+'/*')\n",
    "print(f'fold is :{fold}')\n",
    "window=512.0\n",
    "win=512\n",
    "threshold=210\n",
    "slide=1\n",
    "tot_count=window*window\n",
    "\n",
    "for f1 in fold:\n",
    "    \n",
    "    print(f'f1 is :{f1}')\n",
    "    fname=f1.split('/')[-1]\n",
    "    print(f'fname is :{fname}')\n",
    "    dest_fname=fname.split('.png')[0]\n",
    "    print(f'dest_fname is :{dest_fname}')\n",
    "    foldname=f1.split('/')[-1].split('__')[0]\n",
    "    print(f'fold name is :{foldname}')\n",
    "    if not os.path.exists(dest+foldname):\n",
    "        os.makedirs(dest+foldname)\n",
    "    os.chdir(dest+foldname)\n",
    "    img=cv2.imread(f1)\n",
    "    sr=mpath+foldname+'/'+fname\n",
    "    print(sr)\n",
    "    mask=cv2.imread(mpath+'/'+fname,0)\n",
    "        \n",
    "    row,col= img.shape[:2]\n",
    "    print(row,col)\n",
    "      \n",
    "            \n",
    "    for i in range(0,row,np.int(win/slide)):\n",
    "        if (i+win>row):\n",
    "            rlast_index=row+1\n",
    "#             print(f'rlast_index:{rlast_index}')\n",
    "            rfirst_index=row-win\n",
    "#             print(f'rfirst_index:{rfirst_index}')\n",
    "        else:\n",
    "            rlast_index=i+win\n",
    "#             print(f'else rlast_index:{rlast_index}')\n",
    "            rfirst_index=i \n",
    "#             print(f'else rfirst_index:{rfirst_index}')\n",
    "        for j in range(0,col,np.int(win/slide)):\n",
    "            if (j+win>col):\n",
    "                clast_index=col+1\n",
    "#                 print(f'clast_index:{clast_index}')\n",
    "                cfirst_index=col-win\n",
    "#                 print(f'cfirst_index:{cfirst_index}')\n",
    "            else:\n",
    "                clast_index=j+win\n",
    "#                 print(f'else clast_index:{clast_index}')\n",
    "                cfirst_index=j\n",
    "#                 print(f'else cfirst_index:{cfirst_index}')\n",
    "            mask_patch=mask[rfirst_index:rlast_index,cfirst_index:clast_index]\n",
    "            patch=img[rfirst_index:rlast_index,cfirst_index:clast_index]\n",
    "            black_count=np.sum(mask_patch== 0)\n",
    "            percent_black=black_count*100/tot_count\n",
    "            if (percent_black<=40.0):\n",
    "                channel_1=patch[:,:,0]>threshold\n",
    "                channel_2=patch[:,:,1]>threshold\n",
    "                channel_3=patch[:,:,2]>threshold\n",
    "                vfunc=np.vectorize(np.logical_and)\n",
    "                pixel_and=vfunc(vfunc(channel_1,channel_2),channel_3)\n",
    "                pixel_and_count=np.count_nonzero(pixel_and)\n",
    "                ratio_white_pixel=float(pixel_and_count*100/(window*window))\n",
    "                print(dest_fname)\n",
    "                if (ratio_white_pixel<40) and patch.shape==(512,512,3):\n",
    "                    print(dest_fname+str(i)+'_'+str(j)+'.png')\n",
    "                    cv2.imwrite(dest_fname+'_'+str(i)+'_'+str(j)+'.png',patch)\n",
    "                \n",
    "            \n",
    "    "
   ]
  },
  {
   "cell_type": "code",
   "execution_count": 13,
   "id": "dfb9ac49",
   "metadata": {},
   "outputs": [
    {
     "name": "stdout",
     "output_type": "stream",
     "text": [
      "/home/ravi/Desktop/TCGA-BRCA_DA/extract/patch/TCGA-A1-A0SF\r\n"
     ]
    }
   ],
   "source": [
    "!pwd"
   ]
  },
  {
   "cell_type": "code",
   "execution_count": null,
   "id": "b45f702b",
   "metadata": {},
   "outputs": [],
   "source": []
  },
  {
   "cell_type": "code",
   "execution_count": null,
   "id": "e2835303",
   "metadata": {},
   "outputs": [],
   "source": []
  }
 ],
 "metadata": {
  "kernelspec": {
   "display_name": "Python 3",
   "language": "python",
   "name": "python3"
  },
  "language_info": {
   "codemirror_mode": {
    "name": "ipython",
    "version": 3
   },
   "file_extension": ".py",
   "mimetype": "text/x-python",
   "name": "python",
   "nbconvert_exporter": "python",
   "pygments_lexer": "ipython3",
   "version": "3.13.0"
  }
 },
 "nbformat": 4,
 "nbformat_minor": 5
}
